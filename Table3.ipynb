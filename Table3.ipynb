{
 "cells": [
  {
   "cell_type": "markdown",
   "metadata": {},
   "source": [
    "This notebook allows the reproduce **Table 3** of the paper \"Covering the Combinatorial Design Space of Multiplex CRISPR/Cas Experiments in Plants\" by Kirsten Van Huffel, Michiel Stock, Thomas Jacobs, Tom Ruttink and Bernard De Baets."
   ]
  },
  {
   "cell_type": "markdown",
   "metadata": {},
   "source": [
    "#### Load packages"
   ]
  },
  {
   "cell_type": "code",
   "execution_count": 1,
   "metadata": {},
   "outputs": [
    {
     "name": "stderr",
     "output_type": "stream",
     "text": [
      "\n",
      "(process:9820): GLib-GIO-WARNING **: 10:31:19.522: Unexpectedly, UWP app `HaukeGtze.7-ZipFileManagerUnofficial_1.2107.2.0_x64__6bk20wvc8rfx2' (AUMId `HaukeGtze.7-ZipFileManagerUnofficial_6bk20wvc8rfx2!zFM.exe') supports 36 extensions but has no verbs\n"
     ]
    }
   ],
   "source": [
    "using Random \n",
    "using Plots  \n",
    "using Distributions \n",
    "using LinearAlgebra\n",
    "using Combinatorics\n",
    "using BioCCP"
   ]
  },
  {
   "cell_type": "markdown",
   "metadata": {},
   "source": [
    "#### Load BioCCP- and simulation-based framework"
   ]
  },
  {
   "cell_type": "code",
   "execution_count": 2,
   "metadata": {},
   "outputs": [],
   "source": [
    "include(\"MultiplexCrisprDOE.jl\");"
   ]
  },
  {
   "cell_type": "markdown",
   "metadata": {},
   "source": [
    "#### Set seed for reproducibility"
   ]
  },
  {
   "cell_type": "code",
   "execution_count": 3,
   "metadata": {},
   "outputs": [
    {
     "data": {
      "text/plain": [
       "TaskLocalRNG()"
      ]
     },
     "execution_count": 3,
     "metadata": {},
     "output_type": "execute_result"
    }
   ],
   "source": [
    "Random.seed!(1)"
   ]
  },
  {
   "cell_type": "markdown",
   "metadata": {},
   "source": [
    "#### Calculate expected plant library size for full coverage and measure execution time for both approaches"
   ]
  },
  {
   "cell_type": "markdown",
   "metadata": {},
   "source": [
    "1) CRISPR/Cas experiment targeting single gene knockouts"
   ]
  },
  {
   "cell_type": "code",
   "execution_count": 4,
   "metadata": {},
   "outputs": [],
   "source": [
    "include(\"DefaultParameters_k=1.jl\");"
   ]
  },
  {
   "cell_type": "code",
   "execution_count": 5,
   "metadata": {},
   "outputs": [
    {
     "name": "stdout",
     "output_type": "stream",
     "text": [
      "  0.275172 seconds (1.36 M allocations: 206.072 MiB, 10.29% gc time)\n"
     ]
    },
    {
     "data": {
      "text/plain": [
       "(102.796, 34.21490469673724)"
      ]
     },
     "execution_count": 5,
     "metadata": {},
     "output_type": "execute_result"
    }
   ],
   "source": [
    "simulate_Nₓ₁(x, \n",
    "                                g, \n",
    "                                r, \n",
    "                                n_gRNA_total, \n",
    "                                p_gRNA_freq, \n",
    "                                p_gRNA_edit, ϵ_KO; iter=500)\n",
    "\n",
    "@time simulate_Nₓ₁(x, \n",
    "                                g, \n",
    "                                r, \n",
    "                                n_gRNA_total, \n",
    "                                p_gRNA_freq, \n",
    "                                p_gRNA_edit, ϵ_KO; iter=500)"
   ]
  },
  {
   "cell_type": "code",
   "execution_count": 6,
   "metadata": {},
   "outputs": [
    {
     "name": "stdout",
     "output_type": "stream",
     "text": [
      "  0.001460 seconds (40 allocations: 19.000 KiB)\n"
     ]
    },
    {
     "data": {
      "text/plain": [
       "(104, 37)"
      ]
     },
     "execution_count": 6,
     "metadata": {},
     "output_type": "execute_result"
    }
   ],
   "source": [
    "BioCCP_Nₓ₁(x, \n",
    "                                g, \n",
    "                                r, \n",
    "                                n_gRNA_total, \n",
    "                                p_gRNA_freq, \n",
    "                                p_gRNA_edit, ϵ_KO)\n",
    "@time BioCCP_Nₓ₁(x, \n",
    "                                g, \n",
    "                                r, \n",
    "                                n_gRNA_total, \n",
    "                                p_gRNA_freq, \n",
    "                                p_gRNA_edit, ϵ_KO)"
   ]
  },
  {
   "cell_type": "markdown",
   "metadata": {},
   "source": [
    "2) Multiplex CRISPR/Cas experiment targeting pairwise combinations of gene knockouts"
   ]
  },
  {
   "cell_type": "code",
   "execution_count": 7,
   "metadata": {},
   "outputs": [],
   "source": [
    "include(\"DefaultParameters_k=2.jl\");"
   ]
  },
  {
   "cell_type": "code",
   "execution_count": 8,
   "metadata": {},
   "outputs": [
    {
     "name": "stdout",
     "output_type": "stream",
     "text": [
      "  6.502674 seconds (19.93 M allocations: 6.272 GiB, 12.72% gc time)\n"
     ]
    },
    {
     "data": {
      "text/plain": [
       "(2517.162, 580.1640841046351)"
      ]
     },
     "execution_count": 8,
     "metadata": {},
     "output_type": "execute_result"
    }
   ],
   "source": [
    "simulate_Nₓ₂(x, \n",
    "                                g, \n",
    "                                r, \n",
    "                                n_gRNA_total, \n",
    "                                p_gRNA_freq, \n",
    "                                p_gRNA_edit, ϵ_KO; iter=500)\n",
    "\n",
    "@time simulate_Nₓ₂(x, \n",
    "                                g, \n",
    "                                r, \n",
    "                                n_gRNA_total, \n",
    "                                p_gRNA_freq, \n",
    "                                p_gRNA_edit, ϵ_KO; iter=500)"
   ]
  },
  {
   "cell_type": "code",
   "execution_count": 9,
   "metadata": {},
   "outputs": [
    {
     "name": "stdout",
     "output_type": "stream",
     "text": [
      "  0.027151 seconds (95.41 k allocations: 2.709 MiB)\n"
     ]
    },
    {
     "data": {
      "text/plain": [
       "(2453, 580)"
      ]
     },
     "execution_count": 9,
     "metadata": {},
     "output_type": "execute_result"
    }
   ],
   "source": [
    "BioCCP_Nₓ₂(x, \n",
    "                                g, \n",
    "                                r, \n",
    "                                n_gRNA_total, \n",
    "                                p_gRNA_freq, \n",
    "                                p_gRNA_edit, ϵ_KO)\n",
    "\n",
    "@time BioCCP_Nₓ₂(x, \n",
    "                                g, \n",
    "                                r, \n",
    "                                n_gRNA_total, \n",
    "                                p_gRNA_freq, \n",
    "                                p_gRNA_edit, ϵ_KO)"
   ]
  },
  {
   "cell_type": "markdown",
   "metadata": {},
   "source": [
    "3) Multiplex CRISPR/Cas experiment targeting triple combinations of gene knockouts"
   ]
  },
  {
   "cell_type": "code",
   "execution_count": 10,
   "metadata": {},
   "outputs": [],
   "source": [
    "include(\"DefaultParameters_k=3.jl\");"
   ]
  },
  {
   "cell_type": "code",
   "execution_count": null,
   "metadata": {},
   "outputs": [],
   "source": [
    "simulate_Nₓ₃(x, \n",
    "                                g, \n",
    "                                r, \n",
    "                                n_gRNA_total, \n",
    "                                p_gRNA_freq, \n",
    "                                p_gRNA_edit, ϵ_KO; iter=500)\n",
    "\n",
    "@time simulate_Nₓ₃(x, \n",
    "                                g, \n",
    "                                r, \n",
    "                                n_gRNA_total, \n",
    "                                p_gRNA_freq, \n",
    "                                p_gRNA_edit, ϵ_KO; iter=500)"
   ]
  },
  {
   "cell_type": "code",
   "execution_count": null,
   "metadata": {},
   "outputs": [],
   "source": [
    "BioCCP_Nₓ₃(x, \n",
    "                                g, \n",
    "                                r, \n",
    "                                n_gRNA_total, \n",
    "                                p_gRNA_freq, \n",
    "                                p_gRNA_edit, ϵ_KO)\n",
    "\n",
    "@time BioCCP_Nₓ₃(x, \n",
    "                                g, \n",
    "                                r, \n",
    "                                n_gRNA_total, \n",
    "                                p_gRNA_freq, \n",
    "                                p_gRNA_edit, ϵ_KO)"
   ]
  }
 ],
 "metadata": {
  "kernelspec": {
   "display_name": "Julia 1.7.1",
   "language": "julia",
   "name": "julia-1.7"
  },
  "language_info": {
   "file_extension": ".jl",
   "mimetype": "application/julia",
   "name": "julia",
   "version": "1.7.1"
  }
 },
 "nbformat": 4,
 "nbformat_minor": 4
}
