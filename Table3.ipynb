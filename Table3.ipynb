{
 "cells": [
  {
   "cell_type": "markdown",
   "metadata": {},
   "source": [
    "This notebook allows the reproduce **Table 3** of the paper \"Covering the Combinatorial Design Space of Multiplex CRISPR/Cas Experiments in Plants\" by Kirsten Van Huffel, Michiel Stock, Thomas Jacobs, Tom Ruttink and Bernard De Baets."
   ]
  },
  {
   "cell_type": "markdown",
   "metadata": {},
   "source": [
    "#### Load packages"
   ]
  },
  {
   "cell_type": "code",
   "execution_count": 2,
   "metadata": {},
   "outputs": [
    {
     "name": "stderr",
     "output_type": "stream",
     "text": [
      "\n",
      "(process:14308): GLib-GIO-WARNING **: 17:01:16.843: Unexpectedly, UWP app `HaukeGtze.7-ZipFileManagerUnofficial_1.2107.2.0_x64__6bk20wvc8rfx2' (AUMId `HaukeGtze.7-ZipFileManagerUnofficial_6bk20wvc8rfx2!zFM.exe') supports 36 extensions but has no verbs\n"
     ]
    }
   ],
   "source": [
    "using Random \n",
    "using Plots  \n",
    "using Distributions \n",
    "using LinearAlgebra\n",
    "using Combinatorics\n",
    "using BioCCP"
   ]
  },
  {
   "cell_type": "markdown",
   "metadata": {},
   "source": [
    "#### Load BioCCP- and simulation-based framework"
   ]
  },
  {
   "cell_type": "code",
   "execution_count": 3,
   "metadata": {},
   "outputs": [],
   "source": [
    "include(\"MultiplexCrisprDOE.jl\");"
   ]
  },
  {
   "cell_type": "markdown",
   "metadata": {},
   "source": [
    "#### Set seed for reproducibility"
   ]
  },
  {
   "cell_type": "code",
   "execution_count": 4,
   "metadata": {},
   "outputs": [
    {
     "data": {
      "text/plain": [
       "TaskLocalRNG()"
      ]
     },
     "execution_count": 4,
     "metadata": {},
     "output_type": "execute_result"
    }
   ],
   "source": [
    "Random.seed!(1)"
   ]
  },
  {
   "cell_type": "markdown",
   "metadata": {},
   "source": [
    "#### Calculate expected plant library size for full coverage and measure execution time for both approaches"
   ]
  },
  {
   "cell_type": "markdown",
   "metadata": {},
   "source": [
    "1) CRISPR/Cas experiment targeting single gene knockouts"
   ]
  },
  {
   "cell_type": "code",
   "execution_count": 5,
   "metadata": {},
   "outputs": [],
   "source": [
    "include(\"DefaultParameters_k=1.jl\");"
   ]
  },
  {
   "cell_type": "code",
   "execution_count": 6,
   "metadata": {},
   "outputs": [
    {
     "name": "stdout",
     "output_type": "stream",
     "text": [
      "  0.939055 seconds (3.42 M allocations: 320.657 MiB, 7.11% gc time, 72.67% compilation time)\n"
     ]
    },
    {
     "data": {
      "text/plain": [
       "(107.798, 35.021567875137535)"
      ]
     },
     "execution_count": 6,
     "metadata": {},
     "output_type": "execute_result"
    }
   ],
   "source": [
    "Random.seed!(1)\n",
    "@time simulate_Nₓ₁(x, \n",
    "                                g, \n",
    "                                r, \n",
    "                                n_gRNA_total, \n",
    "                                p_gRNA_freq, \n",
    "                                p_gRNA_edit, ϵ_KO; iter=500)"
   ]
  },
  {
   "cell_type": "code",
   "execution_count": 7,
   "metadata": {},
   "outputs": [
    {
     "name": "stdout",
     "output_type": "stream",
     "text": [
      "  0.508040 seconds (2.54 M allocations: 128.299 MiB, 5.30% gc time, 99.70% compilation time)\n"
     ]
    },
    {
     "data": {
      "text/plain": [
       "(110, 38)"
      ]
     },
     "execution_count": 7,
     "metadata": {},
     "output_type": "execute_result"
    }
   ],
   "source": [
    "@time BioCCP_Nₓ₁(x, \n",
    "                                g, \n",
    "                                r, \n",
    "                                n_gRNA_total, \n",
    "                                p_gRNA_freq, \n",
    "                                p_gRNA_edit, ϵ_KO)"
   ]
  },
  {
   "cell_type": "markdown",
   "metadata": {},
   "source": [
    "2) Multiplex CRISPR/Cas experiment targeting pairwise combinations of gene knockouts"
   ]
  },
  {
   "cell_type": "code",
   "execution_count": 4,
   "metadata": {},
   "outputs": [],
   "source": [
    "include(\"DefaultParameters_k=2.jl\");"
   ]
  },
  {
   "cell_type": "code",
   "execution_count": 7,
   "metadata": {},
   "outputs": [
    {
     "name": "stdout",
     "output_type": "stream",
     "text": [
      "  6.411793 seconds (21.66 M allocations: 6.875 GiB, 13.05% gc time)\n"
     ]
    },
    {
     "data": {
      "text/plain": [
       "(2766.19, 648.3435730207825)"
      ]
     },
     "execution_count": 7,
     "metadata": {},
     "output_type": "execute_result"
    }
   ],
   "source": [
    "@time simulate_Nₓ₂(x, \n",
    "                                g, \n",
    "                                r, \n",
    "                                n_gRNA_total, \n",
    "                                p_gRNA_freq, \n",
    "                                p_gRNA_edit, ϵ_KO; iter=500)"
   ]
  },
  {
   "cell_type": "code",
   "execution_count": 8,
   "metadata": {},
   "outputs": [
    {
     "name": "stdout",
     "output_type": "stream",
     "text": [
      "  0.025079 seconds (95.41 k allocations: 2.709 MiB)\n"
     ]
    },
    {
     "data": {
      "text/plain": [
       "(2731, 641)"
      ]
     },
     "execution_count": 8,
     "metadata": {},
     "output_type": "execute_result"
    }
   ],
   "source": [
    "@time BioCCP_Nₓ₂(x, \n",
    "                                g, \n",
    "                                r, \n",
    "                                n_gRNA_total, \n",
    "                                p_gRNA_freq, \n",
    "                                p_gRNA_edit, ϵ_KO)"
   ]
  },
  {
   "cell_type": "markdown",
   "metadata": {},
   "source": [
    "3) Multiplex CRISPR/Cas experiment targeting triple combinations of gene knockouts"
   ]
  },
  {
   "cell_type": "code",
   "execution_count": 10,
   "metadata": {},
   "outputs": [],
   "source": [
    "include(\"DefaultParameters_k=3.jl\");"
   ]
  },
  {
   "cell_type": "code",
   "execution_count": null,
   "metadata": {},
   "outputs": [],
   "source": [
    "@time simulate_Nₓ₃(x, \n",
    "                                g, \n",
    "                                r, \n",
    "                                n_gRNA_total, \n",
    "                                p_gRNA_freq, \n",
    "                                p_gRNA_edit, ϵ_KO; iter=500)"
   ]
  },
  {
   "cell_type": "code",
   "execution_count": 12,
   "metadata": {},
   "outputs": [
    {
     "name": "stdout",
     "output_type": "stream",
     "text": [
      "  2.231184 seconds (69.43 M allocations: 1.176 GiB, 6.15% gc time, 28.06% compilation time)\n"
     ]
    },
    {
     "data": {
      "text/plain": [
       "(36771, 6989)"
      ]
     },
     "execution_count": 12,
     "metadata": {},
     "output_type": "execute_result"
    }
   ],
   "source": [
    "@time BioCCP_Nₓ₃(x, \n",
    "                                g, \n",
    "                                r, \n",
    "                                n_gRNA_total, \n",
    "                                p_gRNA_freq, \n",
    "                                p_gRNA_edit, ϵ_KO)"
   ]
  }
 ],
 "metadata": {
  "kernelspec": {
   "display_name": "Julia 1.7.1",
   "language": "julia",
   "name": "julia-1.7"
  },
  "language_info": {
   "file_extension": ".jl",
   "mimetype": "application/julia",
   "name": "julia",
   "version": "1.7.1"
  }
 },
 "nbformat": 4,
 "nbformat_minor": 4
}
