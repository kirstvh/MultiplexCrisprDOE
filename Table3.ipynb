{
 "cells": [
  {
   "cell_type": "markdown",
   "metadata": {},
   "source": [
    "This notebook allows the reproduce **Table 3** of the paper \"Covering the Combinatorial Design Space of Multiplex CRISPR/Cas Experiments in Plants\" by Kirsten Van Huffel, Michiel Stock, Thomas Jacobs, Tom Ruttink and Bernard De Baets."
   ]
  },
  {
   "cell_type": "markdown",
   "metadata": {},
   "source": [
    "#### Load packages"
   ]
  },
  {
   "cell_type": "code",
   "execution_count": 1,
   "metadata": {},
   "outputs": [
    {
     "name": "stderr",
     "output_type": "stream",
     "text": [
      "\n",
      "(process:10428): GLib-GIO-WARNING **: 12:26:09.509: Unexpectedly, UWP app `HaukeGtze.7-ZipFileManagerUnofficial_1.2107.2.0_x64__6bk20wvc8rfx2' (AUMId `HaukeGtze.7-ZipFileManagerUnofficial_6bk20wvc8rfx2!zFM.exe') supports 36 extensions but has no verbs\n"
     ]
    }
   ],
   "source": [
    "using Random \n",
    "using Plots  \n",
    "using Distributions \n",
    "using LinearAlgebra\n",
    "using Combinatorics\n",
    "using BioCCP"
   ]
  },
  {
   "cell_type": "markdown",
   "metadata": {},
   "source": [
    "#### Load BioCCP- and simulation-based framework"
   ]
  },
  {
   "cell_type": "code",
   "execution_count": 2,
   "metadata": {},
   "outputs": [],
   "source": [
    "include(\"MultiplexCrisprDOE.jl\");"
   ]
  },
  {
   "cell_type": "markdown",
   "metadata": {},
   "source": [
    "#### Set seed for reproducibility"
   ]
  },
  {
   "cell_type": "code",
   "execution_count": 3,
   "metadata": {},
   "outputs": [
    {
     "data": {
      "text/plain": [
       "TaskLocalRNG()"
      ]
     },
     "execution_count": 3,
     "metadata": {},
     "output_type": "execute_result"
    }
   ],
   "source": [
    "Random.seed!(1)"
   ]
  },
  {
   "cell_type": "markdown",
   "metadata": {},
   "source": [
    "#### Calculate expected plant library size for full coverage and measure execution time for both approaches"
   ]
  },
  {
   "cell_type": "markdown",
   "metadata": {},
   "source": [
    "1) CRISPR/Cas experiment targeting single gene knockouts"
   ]
  },
  {
   "cell_type": "code",
   "execution_count": 4,
   "metadata": {},
   "outputs": [],
   "source": [
    "include(\"DefaultParameters_k=1.jl\");"
   ]
  },
  {
   "cell_type": "code",
   "execution_count": 5,
   "metadata": {},
   "outputs": [
    {
     "name": "stdout",
     "output_type": "stream",
     "text": [
      "  0.876529 seconds (3.42 M allocations: 320.657 MiB, 6.80% gc time, 70.22% compilation time)"
     ]
    },
    {
     "data": {
      "text/plain": [
       "(107.798, 35.021567875137535)"
      ]
     },
     "execution_count": 5,
     "metadata": {},
     "output_type": "execute_result"
    },
    {
     "name": "stdout",
     "output_type": "stream",
     "text": [
      "\n"
     ]
    }
   ],
   "source": [
    "Random.seed!(1)\n",
    "@time simulate_Nₓ₁(x, \n",
    "                                g, \n",
    "                                r, \n",
    "                                n_gRNA_total, \n",
    "                                p_gRNA_freq, \n",
    "                                p_gRNA_edit, ϵ_KO; iter=500)"
   ]
  },
  {
   "cell_type": "code",
   "execution_count": 6,
   "metadata": {},
   "outputs": [
    {
     "name": "stdout",
     "output_type": "stream",
     "text": [
      "  0.483289 seconds (2.41 M allocations: 121.448 MiB, 10.56% gc time, 99.69% compilation time)\n"
     ]
    },
    {
     "data": {
      "text/plain": [
       "(110, 38)"
      ]
     },
     "execution_count": 6,
     "metadata": {},
     "output_type": "execute_result"
    }
   ],
   "source": [
    "@time BioCCP_Nₓ₁(x, \n",
    "                                g, \n",
    "                                r, \n",
    "                                n_gRNA_total, \n",
    "                                p_gRNA_freq, \n",
    "                                p_gRNA_edit, ϵ_KO)"
   ]
  },
  {
   "cell_type": "markdown",
   "metadata": {},
   "source": [
    "2) Multiplex CRISPR/Cas experiment targeting pairwise combinations of gene knockouts"
   ]
  },
  {
   "cell_type": "code",
   "execution_count": 7,
   "metadata": {},
   "outputs": [],
   "source": [
    "include(\"DefaultParameters_k=2.jl\");"
   ]
  },
  {
   "cell_type": "code",
   "execution_count": 8,
   "metadata": {},
   "outputs": [
    {
     "name": "stdout",
     "output_type": "stream",
     "text": [
      "  7.148045 seconds (22.79 M allocations: 6.973 GiB, 12.14% gc time, 3.87% compilation time)\n"
     ]
    },
    {
     "data": {
      "text/plain": [
       "(2785.944, 653.5442303210796)"
      ]
     },
     "execution_count": 8,
     "metadata": {},
     "output_type": "execute_result"
    }
   ],
   "source": [
    "@time simulate_Nₓ₂(x, \n",
    "                                g, \n",
    "                                r, \n",
    "                                n_gRNA_total, \n",
    "                                p_gRNA_freq, \n",
    "                                p_gRNA_edit, ϵ_KO; iter=500)"
   ]
  },
  {
   "cell_type": "code",
   "execution_count": 9,
   "metadata": {},
   "outputs": [
    {
     "name": "stdout",
     "output_type": "stream",
     "text": [
      "  0.739818 seconds (1.72 M allocations: 113.455 MiB, 3.00% gc time, 97.23% compilation time)\n"
     ]
    },
    {
     "data": {
      "text/plain": [
       "(2731, 641)"
      ]
     },
     "execution_count": 9,
     "metadata": {},
     "output_type": "execute_result"
    }
   ],
   "source": [
    "@time BioCCP_Nₓ₂(x, \n",
    "                                g, \n",
    "                                r, \n",
    "                                n_gRNA_total, \n",
    "                                p_gRNA_freq, \n",
    "                                p_gRNA_edit, ϵ_KO)"
   ]
  },
  {
   "cell_type": "markdown",
   "metadata": {},
   "source": [
    "3) Multiplex CRISPR/Cas experiment targeting triple combinations of gene knockouts"
   ]
  },
  {
   "cell_type": "code",
   "execution_count": 10,
   "metadata": {},
   "outputs": [],
   "source": [
    "include(\"DefaultParameters_k=3.jl\");"
   ]
  },
  {
   "cell_type": "code",
   "execution_count": 11,
   "metadata": {},
   "outputs": [
    {
     "name": "stdout",
     "output_type": "stream",
     "text": [
      "290.272101 seconds (315.16 M allocations: 1.141 TiB, 12.76% gc time, 0.12% compilation time)\n"
     ]
    },
    {
     "data": {
      "text/plain": [
       "(37961.902, 7183.90584813482)"
      ]
     },
     "execution_count": 11,
     "metadata": {},
     "output_type": "execute_result"
    }
   ],
   "source": [
    "@time simulate_Nₓ₃(x, \n",
    "                                g, \n",
    "                                r, \n",
    "                                n_gRNA_total, \n",
    "                                p_gRNA_freq, \n",
    "                                p_gRNA_edit, ϵ_KO; iter=500)"
   ]
  },
  {
   "cell_type": "code",
   "execution_count": 12,
   "metadata": {},
   "outputs": [
    {
     "name": "stdout",
     "output_type": "stream",
     "text": [
      "  2.298912 seconds (69.43 M allocations: 1.176 GiB, 6.29% gc time, 26.98% compilation time)\n"
     ]
    },
    {
     "data": {
      "text/plain": [
       "(36771, 6989)"
      ]
     },
     "execution_count": 12,
     "metadata": {},
     "output_type": "execute_result"
    }
   ],
   "source": [
    "@time BioCCP_Nₓ₃(x, \n",
    "                                g, \n",
    "                                r, \n",
    "                                n_gRNA_total, \n",
    "                                p_gRNA_freq, \n",
    "                                p_gRNA_edit, ϵ_KO)"
   ]
  }
 ],
 "metadata": {
  "kernelspec": {
   "display_name": "Julia 1.7.1",
   "language": "julia",
   "name": "julia-1.7"
  },
  "language_info": {
   "file_extension": ".jl",
   "mimetype": "application/julia",
   "name": "julia",
   "version": "1.7.1"
  }
 },
 "nbformat": 4,
 "nbformat_minor": 4
}
