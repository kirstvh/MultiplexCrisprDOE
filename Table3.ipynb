{
 "cells": [
  {
   "cell_type": "markdown",
   "metadata": {},
   "source": [
    "# Exploring the design space of combinatorial CRISPR experiments"
   ]
  },
  {
   "cell_type": "markdown",
   "metadata": {},
   "source": [
    "## 1. Load packages"
   ]
  },
  {
   "cell_type": "code",
   "execution_count": 1,
   "metadata": {},
   "outputs": [
    {
     "name": "stderr",
     "output_type": "stream",
     "text": [
      "\n",
      "(process:18520): GLib-GIO-WARNING **: 19:47:54.786: Unexpectedly, UWP app `HaukeGtze.7-ZipFileManagerUnofficial_1.2107.2.0_x64__6bk20wvc8rfx2' (AUMId `HaukeGtze.7-ZipFileManagerUnofficial_6bk20wvc8rfx2!zFM.exe') supports 36 extensions but has no verbs\n"
     ]
    }
   ],
   "source": [
    "using Random \n",
    "using Plots  \n",
    "using Distributions \n",
    "using LinearAlgebra\n",
    "using Combinatorics\n",
    "using BioCCP"
   ]
  },
  {
   "cell_type": "markdown",
   "metadata": {},
   "source": [
    "## 2. Simulation-based approach"
   ]
  },
  {
   "cell_type": "markdown",
   "metadata": {},
   "source": [
    "### 2.1 gRNA relative frequency distributionin combinatorial gRNA/Cas library"
   ]
  },
  {
   "cell_type": "code",
   "execution_count": 2,
   "metadata": {},
   "outputs": [
    {
     "data": {
      "text/plain": [
       "gRNA_frequency_distribution (generic function with 1 method)"
      ]
     },
     "execution_count": 2,
     "metadata": {},
     "output_type": "execute_result"
    }
   ],
   "source": [
    "function gRNA_frequency_distribution(m, sd, l, u, gRNA_total; normalize = true, visualize=false)\n",
    "    d_gRNAlibrary = truncated(Normal(m, sd), l, u)\n",
    "    gRNA_abundances = collect(rand(d_gRNAlibrary, gRNA_total))\n",
    "     if visualize\n",
    "        return histogram(gRNA_abundances, label=\"\", \n",
    "            xlabel=\"Number of reads per gene\", \n",
    "            ylabel=\"absolute frequency\", title=\"Read distribution\")\n",
    "    else\n",
    "        if normalize\n",
    "            gRNA_abundances /= sum(gRNA_abundances)\n",
    "        end\n",
    "        return gRNA_abundances\n",
    "    end\n",
    "end"
   ]
  },
  {
   "cell_type": "markdown",
   "metadata": {},
   "source": [
    "### 2.2 gRNA-specific genome editing efficiency"
   ]
  },
  {
   "cell_type": "code",
   "execution_count": 3,
   "metadata": {},
   "outputs": [
    {
     "data": {
      "text/plain": [
       "gRNA_activity_distribution (generic function with 1 method)"
      ]
     },
     "execution_count": 3,
     "metadata": {},
     "output_type": "execute_result"
    }
   ],
   "source": [
    "function gRNA_activity_distribution(p_high_activity, μ_high_activity, μ_low_activity, σ_activity, n_gRNAs; visualize=false)   \n",
    "    d_activity = Binomial(1, p_high_activity)\n",
    "    d_highactivity = truncated(Normal(μ_high_activity, σ_activity), 0.01, 1)\n",
    "    d_lowactivity = truncated(Normal(μ_low_activity, σ_activity), 0.01, 1)\n",
    "    p_gRNA_act = zeros(n_gRNAs) # initialize\n",
    "    for i in 1:n_gRNAs\n",
    "        if rand(d_activity, 1) == [1]\n",
    "            p_gRNA_act[i] = rand(d_highactivity, 1)[1]\n",
    "        else\n",
    "            p_gRNA_act[i] = rand(d_lowactivity, 1)[1]\n",
    "        end\n",
    "    end\n",
    "    if visualize\n",
    "        return histogram(p_gRNA_act, label=\"\", xlabel=\"gRNA activity\", ylabel=\"absolute frequency\", title=\"gRNA activity distribution\")\n",
    "\n",
    "    else\n",
    "        return p_gRNA_act\n",
    "    end\n",
    "end"
   ]
  },
  {
   "cell_type": "markdown",
   "metadata": {},
   "source": [
    "### 2.3 Simulation function"
   ]
  },
  {
   "cell_type": "code",
   "execution_count": 4,
   "metadata": {},
   "outputs": [
    {
     "data": {
      "text/plain": [
       "simulate_Nₓ₁ (generic function with 1 method)"
      ]
     },
     "execution_count": 4,
     "metadata": {},
     "output_type": "execute_result"
    }
   ],
   "source": [
    "function simulate_Nₓ₁(n_targets, \n",
    "                                         n_gRNA_pergene, \n",
    "                                         n_gRNA_perconstruct, \n",
    "                                         n_gRNA_total, \n",
    "                                         p_gRNA_library, \n",
    "                                         p_gRNA_act, ϵ_knockout_global; iter=500)\n",
    "    \"\"\" \n",
    "    INPUT\n",
    "  \n",
    "    \n",
    "    OUTPUT\n",
    "    E: expected minimum number of plants to gRNA_read_distributionsee each pairwise combination at least once\n",
    "    sd: standard deviation on the minimum number of plants\n",
    "    \"\"\"\n",
    "    @assert n_targets * n_gRNA_pergene == n_gRNA_total\n",
    "    \n",
    "    T_vec = [] #stores number of plants required for each experiment\n",
    "        for i in 1:iter       \n",
    "            genes_vec = [] # Initialize matrix to count pairwise interactions\n",
    "            T = 0\n",
    "            while genes_vec != collect(1:n_targets) # check if all pairwise combinations are present\n",
    "             \n",
    "                T += 1 # count how many plants must be sampled to fill pairwise interaction matrix\n",
    "                \n",
    "                # sample combinatorial gRNA/Cas9 construct\n",
    "                gRNA_indices_construct = findall((rand(Multinomial(n_gRNA_perconstruct, p_gRNA_library))) .!= 0)\n",
    "                \n",
    "                # execute mutations\n",
    "                gRNA_indices_mutations = [gRNA for gRNA in gRNA_indices_construct if rand(Binomial(1, p_gRNA_act[gRNA])) == 1]\n",
    "            \n",
    "                # effective gene knockout (loss-of-function) ?\n",
    "                gRNA_indices_KO = [gRNA for gRNA in gRNA_indices_mutations if rand(Binomial(1, ϵ_knockout_global)) == 1]\n",
    "            \n",
    "                # which genes are knocked out?\n",
    "                genes_indices_KO = Int.(ceil.(gRNA_indices_KO / n_gRNA_pergene))\n",
    "                 append!(genes_vec, genes_indices_KO)\n",
    "                genes_vec = Int.(sort(unique(genes_vec)))\n",
    "            end\n",
    "            push!(T_vec, T)   \n",
    "              \n",
    "        end\n",
    "        E = mean(T_vec); sd = std(T_vec)\n",
    "    return E, sd\n",
    "end\n",
    "   "
   ]
  },
  {
   "cell_type": "code",
   "execution_count": 5,
   "metadata": {},
   "outputs": [
    {
     "data": {
      "text/plain": [
       "BioCCP_Nₓ₂ (generic function with 1 method)"
      ]
     },
     "execution_count": 5,
     "metadata": {},
     "output_type": "execute_result"
    }
   ],
   "source": [
    "using BioCCP\n",
    "\n",
    "function BioCCP_Nₓ₁(n_targets, \n",
    "                                         n_gRNA_pergene, \n",
    "                                         n_gRNA_perconstruct, \n",
    "                                         n_gRNA_total, \n",
    "                                         p_gRNA_library, \n",
    "                                         p_gRNA_act, ϵ_knockout_global)\n",
    "    \n",
    "    p_gRNAs = p_gRNA_library .* p_gRNA_act * ϵ_knockout_global\n",
    "    p_genes = [sum(p_gRNAs[i:i+n_gRNA_pergene-1]) for i in 1:n_gRNA_pergene:n_gRNA_total]\n",
    "    return expectation_minsamplesize(n_targets; p=p_genes, r=n_gRNA_perconstruct, normalize=false), \n",
    "    std_minsamplesize(n_targets; p=p_genes, r=n_gRNA_perconstruct, normalize=false)\n",
    "end\n",
    "\n",
    "function simulate_Nₓ₂(n_targets, \n",
    "                                         n_gRNA_pergene, \n",
    "                                         n_gRNA_perconstruct, \n",
    "                                         n_gRNA_total, \n",
    "                                         p_gRNA_library, \n",
    "                                         p_gRNA_act, ϵ_knockout_global; iter=500)\n",
    "    \"\"\" \n",
    "    INPUT\n",
    "  \n",
    "    \n",
    "    OUTPUT\n",
    "    E: expected minimum number of plants to gRNA_read_distributionsee each pairwise combination at least once\n",
    "    sd: standard deviation on the minimum number of plants\n",
    "    \"\"\"\n",
    "    @assert n_targets * n_gRNA_pergene == n_gRNA_total\n",
    "#     @assert sum(p_gRNA_library) == 1\n",
    "    \n",
    "    T_vec = [] #stores number of plants required for each experiment\n",
    "        for i in 1:iter     \n",
    "            if i % 100 == 0\n",
    "                println(\"Iteration: $i ... Calculating minimum number of plants ... \\n\")\n",
    "            end   \n",
    "            X_interactions_count = zeros(n_targets, n_targets) # Initialize matrix to count pairwise interactions\n",
    "            T = 0\n",
    "            while X_interactions_count != ones(n_targets, n_targets) # check if all pairwise combinations are present\n",
    "                T += 1 # count how many plants must be sampled to fill pairwise interaction matrix\n",
    "                \n",
    "                # sample combinatorial gRNA/Cas9 construct\n",
    "                gRNA_indices_construct = findall((rand(Multinomial(n_gRNA_perconstruct, p_gRNA_library))) .!= 0)\n",
    "                \n",
    "                # execute mutations\n",
    "                gRNA_indices_mutations = [gRNA for gRNA in gRNA_indices_construct if rand(Binomial(1, p_gRNA_act[gRNA])) == 1]\n",
    "            \n",
    "                # effective gene knockout (loss-of-function) ?\n",
    "                gRNA_indices_KO = [gRNA for gRNA in gRNA_indices_mutations if rand(Binomial(1, ϵ_knockout_global)) == 1]\n",
    "            \n",
    "                # which genes are knocked out?\n",
    "                genes_indices_KO = Int.(ceil.(gRNA_indices_KO / n_gRNA_pergene))\n",
    "            \n",
    "                # which pairwise combinations are present?\n",
    "                interactions = collect(combinations(genes_indices_KO, 2))\n",
    "                \n",
    "                # Store represented combinations in matrix\n",
    "                for interaction in interactions\n",
    "                    j = interaction[1]; k = interaction[2]\n",
    "                    X_interactions_count[j,k] = 1; X_interactions_count[k,j] = 1; X_interactions_count[j,j] = 1; X_interactions_count[k,k] = 1          \n",
    "                end  \n",
    "            end\n",
    "            push!(T_vec, T)   \n",
    "              \n",
    "        end\n",
    "        E = mean(T_vec); sd = std(T_vec)\n",
    "    return E, sd\n",
    "end\n",
    "\n",
    "using BioCCP\n",
    "\n",
    "function BioCCP_Nₓ₂(n_targets, \n",
    "                                         n_gRNA_pergene, \n",
    "                                         n_gRNA_perconstruct, \n",
    "                                         n_gRNA_total, \n",
    "                                         p_gRNA_library, \n",
    "                                         p_gRNA_act, ϵ_knockout_global)\n",
    "    \n",
    "    # how many pairwise combinations of gRNAs\n",
    "    ind_combinations_gRNA = collect(combinations(1:n_gRNA_total, 2))\n",
    "    n_combinations_gRNA = length(ind_combinations_gRNA)\n",
    "    \n",
    "    # calculate probability and activity of gRNA combinations\n",
    "    p_combinations_gRNA_library = zeros(n_combinations_gRNA)\n",
    "    p_combinations_gRNA_act = zeros(n_combinations_gRNA)\n",
    "    for i in 1:n_combinations_gRNA\n",
    "        p_combinations_gRNA_library[i] = p_gRNA_library[ind_combinations_gRNA[i][1]] * p_gRNA_library[ind_combinations_gRNA[i][2]]\n",
    "        p_combinations_gRNA_act[i] = p_gRNA_act[ind_combinations_gRNA[i][1]] * p_gRNA_act[ind_combinations_gRNA[i][2]]\n",
    "    end\n",
    "    \n",
    "    # normalize probability gRNA combinations\n",
    "    p_combinations_gRNA_library /= sum(p_combinations_gRNA_library)\n",
    "\n",
    "    # select pairwise gRNA combinations of which each component codes for different gene (goal is to study combinations of knockouts in different genes)\n",
    "    p_combinations_gRNA_library_interest = []\n",
    "    p_combinations_gRNA_act_interest = []\n",
    "    ind_combinations_gRNA_interest = []\n",
    "    for i in 1:n_combinations_gRNA\n",
    "        if ceil(ind_combinations_gRNA[i][1]/n_gRNA_pergene) != ceil(ind_combinations_gRNA[i][2]/n_gRNA_pergene)\n",
    "            push!(p_combinations_gRNA_library_interest, p_combinations_gRNA_library[i])\n",
    "            push!(p_combinations_gRNA_act_interest, p_combinations_gRNA_act[i])\n",
    "            push!(ind_combinations_gRNA_interest, ind_combinations_gRNA[i])\n",
    "        end\n",
    "    end\n",
    "        \n",
    "    n_combinations_gRNA_interest = length(p_combinations_gRNA_library_interest)\n",
    "    p_combinations_gRNA = p_combinations_gRNA_library_interest .* p_combinations_gRNA_act_interest * ϵ_knockout_global^2\n",
    "\n",
    "    #### INTEGREREN PER GENCOMBINATIE\n",
    "    p_genes_matrix = zeros(n_targets, n_targets)\n",
    "    for i in 1:n_combinations_gRNA_interest\n",
    "        gene1 = Int(ceil(ind_combinations_gRNA_interest[i][1]/n_gRNA_pergene))\n",
    "        gene2 = Int(ceil(ind_combinations_gRNA_interest[i][2]/n_gRNA_pergene))\n",
    "        p_genes_matrix[gene1, gene2] += p_combinations_gRNA[i]\n",
    "    end\n",
    "    p_genes = collect([p_genes_matrix[i, j] for j in 2:size(p_genes_matrix, 1) for i in 1:j-1])  \n",
    "    n_combinations_genes = length(p_genes)\n",
    "    combinations_pp = length(collect(combinations(1:n_gRNA_perconstruct, 2)))\n",
    "    \n",
    "    return expectation_minsamplesize(n_combinations_genes; p=p_genes, r=combinations_pp, normalize=false), std_minsamplesize(n_combinations_genes; p=p_genes, r=combinations_pp, normalize=false)\n",
    "end\n",
    "   "
   ]
  },
  {
   "cell_type": "code",
   "execution_count": 6,
   "metadata": {},
   "outputs": [
    {
     "data": {
      "text/plain": [
       "BioCCP_Nₓ₃ (generic function with 1 method)"
      ]
     },
     "execution_count": 6,
     "metadata": {},
     "output_type": "execute_result"
    }
   ],
   "source": [
    "function simulate_Nₓ₃(n_targets, \n",
    "                                         n_gRNA_pergene, \n",
    "                                         n_gRNA_perconstruct, \n",
    "                                         n_gRNA_total, \n",
    "                                         p_gRNA_library, \n",
    "                                         p_gRNA_act, ϵ_knockout_global; iter=500)\n",
    "    \"\"\" \n",
    "    INPUT\n",
    "  \n",
    "    \n",
    "    OUTPUT\n",
    "    E: expected minimum number of plants to gRNA_read_distributionsee each pairwise combination at least once\n",
    "    sd: standard deviation on the minimum number of plants\n",
    "    \"\"\"\n",
    "    @assert n_targets * n_gRNA_pergene == n_gRNA_total\n",
    "#     @assert sum(p_gRNA_library) == 1\n",
    "    \n",
    "    T_vec = [] #stores number of plants required for each experiment\n",
    "        for i in 1:iter     \n",
    "            if i % 100 == 0\n",
    "                println(\"Iteration: $i ... Calculating minimum number of plants ... \\n\")\n",
    "            end   \n",
    "            X_interactions_count = zeros(n_targets, n_targets, n_targets) # Initialize matrix to count triple interactions\n",
    "            T = 0\n",
    "            while X_interactions_count != ones(n_targets, n_targets, n_targets) # check if all triple combinations are present\n",
    "                T += 1 # count how many plants must be sampled to fill triple interaction matrix\n",
    "                \n",
    "                # sample combinatorial gRNA/Cas9 construct\n",
    "                gRNA_indices_construct = findall((rand(Multinomial(n_gRNA_perconstruct, p_gRNA_library))) .!= 0)\n",
    "                \n",
    "                # execute mutations\n",
    "                gRNA_indices_mutations = [gRNA for gRNA in gRNA_indices_construct if rand(Binomial(1, p_gRNA_act[gRNA])) == 1]\n",
    "            \n",
    "                # effective gene knockout (loss-of-function) ?\n",
    "                gRNA_indices_KO = [gRNA for gRNA in gRNA_indices_mutations if rand(Binomial(1, ϵ_knockout_global)) == 1]\n",
    "            \n",
    "                # which genes are knocked out?\n",
    "                genes_indices_KO = Int.(ceil.(gRNA_indices_KO / n_gRNA_pergene))\n",
    "            \n",
    "                # which triple combinations are present?\n",
    "                interactions = collect(combinations(genes_indices_KO, 3))\n",
    "                \n",
    "                # Store represented combinations in matrix\n",
    "                for interaction in interactions\n",
    "                    j = interaction[1]\n",
    "                    k = interaction[2]\n",
    "                    l = interaction[3]\n",
    "                    X_interactions_count[j,k,l] = 1\n",
    "                    X_interactions_count[k,j,l] = 1\n",
    "                    X_interactions_count[l,j,k] = 1\n",
    "                    X_interactions_count[l,k,j] = 1\n",
    "                    X_interactions_count[j,l,k] = 1\n",
    "                    X_interactions_count[k,l,j] = 1\n",
    "        \n",
    "                    X_interactions_count[:,l,l] .= 1\n",
    "                    X_interactions_count[:,k,k] .= 1\n",
    "                    X_interactions_count[:,j,j] .= 1\n",
    "                    X_interactions_count[l,:,l] .= 1\n",
    "                    X_interactions_count[k,:,k] .= 1\n",
    "                    X_interactions_count[j,:,j] .= 1\n",
    "        \n",
    "                    X_interactions_count[j,j,:] .= 1\n",
    "                    X_interactions_count[k,k,:] .= 1\n",
    "                    X_interactions_count[l,l,:] .= 1\n",
    "                end  \n",
    "            end\n",
    "            push!(T_vec, T)   \n",
    "              \n",
    "        end\n",
    "        E = mean(T_vec); sd = std(T_vec)\n",
    "    return E, sd\n",
    "end\n",
    "   \n",
    "        \n",
    "function BioCCP_Nₓ₃(n_targets, \n",
    "                                         n_gRNA_pergene, \n",
    "                                         n_gRNA_perconstruct, \n",
    "                                         n_gRNA_total, \n",
    "                                         p_gRNA_library, \n",
    "                                         p_gRNA_act, ϵ_knockout_global)\n",
    "    \n",
    "    # how many pairwise combinations of gRNAs\n",
    "    ind_combinations_gRNA = collect(combinations(1:n_gRNA_total, 3))\n",
    "    n_combinations_gRNA = length(ind_combinations_gRNA)\n",
    "    \n",
    "    # calculate probability and activity of triple gRNA combinations\n",
    "    p_combinations_gRNA_library = zeros(n_combinations_gRNA)\n",
    "    p_combinations_gRNA_act = zeros(n_combinations_gRNA)\n",
    "    for i in 1:n_combinations_gRNA\n",
    "        p_combinations_gRNA_library[i] = p_gRNA_library[ind_combinations_gRNA[i][1]] * p_gRNA_library[ind_combinations_gRNA[i][2]] * p_gRNA_library[ind_combinations_gRNA[i][3]]\n",
    "        p_combinations_gRNA_act[i] = p_gRNA_act[ind_combinations_gRNA[i][1]] * p_gRNA_act[ind_combinations_gRNA[i][2]] * p_gRNA_act[ind_combinations_gRNA[i][3]]\n",
    "    end\n",
    "    \n",
    "    # normalize probability gRNA combinations\n",
    "    p_combinations_gRNA_library /= sum(p_combinations_gRNA_library)\n",
    "\n",
    "    # select triple gRNA combinations of which each component codes for different gene (goal is to study combinations of knockouts in different genes)\n",
    "    p_combinations_gRNA_library_interest = []\n",
    "    p_combinations_gRNA_act_interest = []\n",
    "    ind_combinations_gRNA_interest = []\n",
    "    for i in 1:n_combinations_gRNA\n",
    "        if ceil(ind_combinations_gRNA[i][1]/n_gRNA_pergene) != ceil(ind_combinations_gRNA[i][2]/n_gRNA_pergene) && ceil(ind_combinations_gRNA[i][1]/n_gRNA_pergene) != ceil(ind_combinations_gRNA[i][3]/n_gRNA_pergene) && ceil(ind_combinations_gRNA[i][3]/n_gRNA_pergene) != ceil(ind_combinations_gRNA[i][2]/n_gRNA_pergene)\n",
    "            push!(p_combinations_gRNA_library_interest, p_combinations_gRNA_library[i])\n",
    "            push!(p_combinations_gRNA_act_interest, p_combinations_gRNA_act[i])\n",
    "            push!(ind_combinations_gRNA_interest, ind_combinations_gRNA[i])\n",
    "        end\n",
    "    end\n",
    "        \n",
    "    n_combinations_gRNA_interest = length(p_combinations_gRNA_library_interest)\n",
    "    p_combinations_gRNA = p_combinations_gRNA_library_interest .* p_combinations_gRNA_act_interest * ϵ_knockout_global^3\n",
    "\n",
    "    #### INTEGREREN PER GENCOMBINATIE\n",
    "    p_genes_matrix = zeros(n_targets, n_targets, n_targets)\n",
    "    for i in 1:n_combinations_gRNA_interest\n",
    "        gene1 = Int(ceil(ind_combinations_gRNA_interest[i][1]/n_gRNA_pergene))\n",
    "        gene2 = Int(ceil(ind_combinations_gRNA_interest[i][2]/n_gRNA_pergene))\n",
    "        gene3 = Int(ceil(ind_combinations_gRNA_interest[i][3]/n_gRNA_pergene))\n",
    "        p_genes_matrix[gene1, gene2, gene3] += p_combinations_gRNA[i]\n",
    "    end\n",
    "    \n",
    "    combinations_genes = collect(combinations(1:n_targets, 3))\n",
    "    p_genes = []\n",
    "        for combination in combinations_genes\n",
    "            push!(p_genes, p_genes_matrix[combination[1], combination[2], combination[3]])\n",
    "        end\n",
    "        \n",
    "    n_combinations_genes = length(p_genes)\n",
    "    combinations_pp = length(collect(combinations(1:n_gRNA_perconstruct, 3)))\n",
    "    \n",
    "    return expectation_minsamplesize(n_combinations_genes; p=p_genes, r=combinations_pp, normalize=false), std_minsamplesize(n_combinations_genes; p=p_genes, r=combinations_pp, normalize=false)\n",
    "end"
   ]
  },
  {
   "cell_type": "code",
   "execution_count": 7,
   "metadata": {},
   "outputs": [],
   "source": [
    "n_targets = 20\n",
    "n_gRNA_pergene = 6\n",
    "n_gRNA_total = n_targets * n_gRNA_pergene\n",
    "ϵ_knockout_global = 0.8\n",
    "ρ = 2\n",
    "l = 50; \n",
    "u = ρ*l\n",
    "m= (l+u)/2; \n",
    "sd= (u-l)/2; \n",
    "Random.seed!(1)\n",
    "p_gRNA_library = gRNA_frequency_distribution(m, sd, l, u, n_gRNA_total; normalize=true)\n",
    "\n",
    "\n",
    "Random.seed!(1)\n",
    "p_active = 0.9; high_activity = 0.9; low_activity = 0.1; sd_act = 0.01\n",
    "p_gRNA_act = gRNA_activity_distribution(p_active, high_activity, low_activity, sd_act, n_gRNA_total; visualize=false);"
   ]
  },
  {
   "cell_type": "code",
   "execution_count": 8,
   "metadata": {},
   "outputs": [
    {
     "name": "stdout",
     "output_type": "stream",
     "text": [
      "  1.339814 seconds (3.42 M allocations: 320.668 MiB, 6.84% gc time, 71.29% compilation time)\n"
     ]
    },
    {
     "data": {
      "text/plain": [
       "(107.798, 35.021567875137535)"
      ]
     },
     "execution_count": 8,
     "metadata": {},
     "output_type": "execute_result"
    }
   ],
   "source": [
    "n_gRNA_perconstruct = 1\n",
    "Random.seed!(1)\n",
    "@time simulate_Nₓ₁(n_targets, \n",
    "                                n_gRNA_pergene, \n",
    "                                n_gRNA_perconstruct, \n",
    "                                n_gRNA_total, \n",
    "                                p_gRNA_library, \n",
    "                                p_gRNA_act, ϵ_knockout_global; iter=500)"
   ]
  },
  {
   "cell_type": "code",
   "execution_count": 9,
   "metadata": {},
   "outputs": [
    {
     "name": "stdout",
     "output_type": "stream",
     "text": [
      "  0.735133 seconds (2.54 M allocations: 128.287 MiB, 5.87% gc time, 99.76% compilation time)\n"
     ]
    },
    {
     "data": {
      "text/plain": [
       "(110, 38)"
      ]
     },
     "execution_count": 9,
     "metadata": {},
     "output_type": "execute_result"
    }
   ],
   "source": [
    "Random.seed!(1)\n",
    "@time BioCCP_Nₓ₁(n_targets, \n",
    "                                n_gRNA_pergene, \n",
    "                                n_gRNA_perconstruct, \n",
    "                                n_gRNA_total, \n",
    "                                p_gRNA_library, \n",
    "                                p_gRNA_act, ϵ_knockout_global)"
   ]
  },
  {
   "cell_type": "code",
   "execution_count": 10,
   "metadata": {},
   "outputs": [
    {
     "name": "stdout",
     "output_type": "stream",
     "text": [
      "Iteration: 100 ... Calculating minimum number of plants ... \n",
      "\n",
      "Iteration: 200 ... Calculating minimum number of plants ... \n",
      "\n",
      "Iteration: 300 ... Calculating minimum number of plants ... \n",
      "\n",
      "Iteration: 400 ... Calculating minimum number of plants ... \n",
      "\n",
      "Iteration: 500 ... Calculating minimum number of plants ... \n",
      "\n",
      " 10.638747 seconds (22.79 M allocations: 6.973 GiB, 12.70% gc time, 4.13% compilation time)\n"
     ]
    },
    {
     "data": {
      "text/plain": [
       "(2785.95, 653.5562769297134)"
      ]
     },
     "execution_count": 10,
     "metadata": {},
     "output_type": "execute_result"
    }
   ],
   "source": [
    "n_gRNA_perconstruct = 2\n",
    "Random.seed!(1)\n",
    "@time simulate_Nₓ₂(n_targets, \n",
    "                                n_gRNA_pergene, \n",
    "                                n_gRNA_perconstruct, \n",
    "                                n_gRNA_total, \n",
    "                                p_gRNA_library, \n",
    "                                p_gRNA_act, ϵ_knockout_global; iter=500)"
   ]
  },
  {
   "cell_type": "code",
   "execution_count": 11,
   "metadata": {},
   "outputs": [
    {
     "name": "stdout",
     "output_type": "stream",
     "text": [
      "  1.285499 seconds (1.72 M allocations: 113.445 MiB, 3.53% gc time, 97.63% compilation time)\n"
     ]
    },
    {
     "data": {
      "text/plain": [
       "(2731, 641)"
      ]
     },
     "execution_count": 11,
     "metadata": {},
     "output_type": "execute_result"
    }
   ],
   "source": [
    "Random.seed!(1)\n",
    "@time BioCCP_Nₓ₂(n_targets, \n",
    "                                n_gRNA_pergene, \n",
    "                                n_gRNA_perconstruct, \n",
    "                                n_gRNA_total, \n",
    "                                p_gRNA_library, \n",
    "                                p_gRNA_act, ϵ_knockout_global)"
   ]
  },
  {
   "cell_type": "code",
   "execution_count": 12,
   "metadata": {},
   "outputs": [
    {
     "name": "stdout",
     "output_type": "stream",
     "text": [
      "Iteration: 100 ... Calculating minimum number of plants ... \n",
      "\n",
      "Iteration: 200 ... Calculating minimum number of plants ... \n",
      "\n",
      "Iteration: 300 ... Calculating minimum number of plants ... \n",
      "\n",
      "Iteration: 400 ... Calculating minimum number of plants ... \n",
      "\n",
      "Iteration: 500 ... Calculating minimum number of plants ... \n",
      "\n",
      "411.362045 seconds (315.17 M allocations: 1.141 TiB, 14.00% gc time, 0.11% compilation time)\n"
     ]
    },
    {
     "data": {
      "text/plain": [
       "(37961.906, 7183.905227227848)"
      ]
     },
     "execution_count": 12,
     "metadata": {},
     "output_type": "execute_result"
    }
   ],
   "source": [
    "n_gRNA_perconstruct = 3\n",
    "Random.seed!(1)\n",
    "@time simulate_Nₓ₃(n_targets, \n",
    "                                n_gRNA_pergene, \n",
    "                                n_gRNA_perconstruct, \n",
    "                                n_gRNA_total, \n",
    "                                p_gRNA_library, \n",
    "                                p_gRNA_act, ϵ_knockout_global; iter=500)"
   ]
  },
  {
   "cell_type": "code",
   "execution_count": 13,
   "metadata": {},
   "outputs": [
    {
     "name": "stdout",
     "output_type": "stream",
     "text": [
      "  3.184293 seconds (69.43 M allocations: 1.176 GiB, 5.36% gc time, 27.13% compilation time)\n"
     ]
    },
    {
     "data": {
      "text/plain": [
       "(36771, 6989)"
      ]
     },
     "execution_count": 13,
     "metadata": {},
     "output_type": "execute_result"
    }
   ],
   "source": [
    "n_gRNA_perconstruct = 3\n",
    "Random.seed!(1)\n",
    "@time BioCCP_Nₓ₃(n_targets, \n",
    "                                n_gRNA_pergene, \n",
    "                                n_gRNA_perconstruct, \n",
    "                                n_gRNA_total, \n",
    "                                p_gRNA_library, \n",
    "                                p_gRNA_act, ϵ_knockout_global)"
   ]
  }
 ],
 "metadata": {
  "kernelspec": {
   "display_name": "Julia 1.7.1",
   "language": "julia",
   "name": "julia-1.7"
  },
  "language_info": {
   "file_extension": ".jl",
   "mimetype": "application/julia",
   "name": "julia",
   "version": "1.7.1"
  }
 },
 "nbformat": 4,
 "nbformat_minor": 4
}
