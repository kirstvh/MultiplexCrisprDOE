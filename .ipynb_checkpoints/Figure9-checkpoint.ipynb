{
 "cells": [
  {
   "cell_type": "markdown",
   "metadata": {},
   "source": [
    "This notebook allows to reproduce **Figure 9** of the paper \"Covering the Combinatorial Design Space of Multiplex CRISPR/Cas Experiments in Plants\" by Kirsten Van Huffel, Michiel Stock, Thomas Jacobs, Tom Ruttink and Bernard De Baets."
   ]
  },
  {
   "cell_type": "markdown",
   "metadata": {},
   "source": [
    "#### Load packages"
   ]
  },
  {
   "cell_type": "code",
   "execution_count": 29,
   "metadata": {},
   "outputs": [],
   "source": [
    "using Random \n",
    "using Plots  \n",
    "using Distributions \n",
    "using LinearAlgebra\n",
    "using Combinatorics\n",
    "using BioCCP\n",
    "using StatPlots"
   ]
  },
  {
   "cell_type": "markdown",
   "metadata": {},
   "source": [
    "#### Load BioCCP- and simulation-based framework"
   ]
  },
  {
   "cell_type": "code",
   "execution_count": 21,
   "metadata": {},
   "outputs": [],
   "source": [
    "include(\"MultiplexCrisprDOE.jl\");"
   ]
  },
  {
   "cell_type": "markdown",
   "metadata": {},
   "source": [
    "#### Set seed for reproducibility"
   ]
  },
  {
   "cell_type": "code",
   "execution_count": 22,
   "metadata": {},
   "outputs": [
    {
     "data": {
      "text/plain": [
       "TaskLocalRNG()"
      ]
     },
     "execution_count": 22,
     "metadata": {},
     "output_type": "execute_result"
    }
   ],
   "source": [
    "Random.seed!(1)"
   ]
  },
  {
   "cell_type": "markdown",
   "metadata": {},
   "source": [
    "- Figure 9A: Distribution of knockouts for standard multiplex CRISPR/Cas approach (*r* = *k* = 2)"
   ]
  },
  {
   "cell_type": "code",
   "execution_count": 23,
   "metadata": {},
   "outputs": [],
   "source": [
    "include(\"DefaultParameters_k=2.jl\");"
   ]
  },
  {
   "cell_type": "code",
   "execution_count": 24,
   "metadata": {},
   "outputs": [],
   "source": [
    "ϵ_KO = 0.9\n",
    "n_KOs_90 = simulate_Nₓ₂_countKOs(x, \n",
    "                                         g, \n",
    "                                         r, \n",
    "                                         n_gRNA_total, \n",
    "                                         p_gRNA_freq, \n",
    "                                         p_gRNA_edit, ϵ_KO; iter=500)\n",
    "ϵ_KO = 0.8\n",
    "n_KOs_80 = simulate_Nₓ₂_countKOs(x, \n",
    "                                         g, \n",
    "                                         r, \n",
    "                                         n_gRNA_total, \n",
    "                                         p_gRNA_freq, \n",
    "                                         p_gRNA_edit, ϵ_KO; iter=500)\n",
    "ϵ_KO = 0.7\n",
    "n_KOs_70 = simulate_Nₓ₂_countKOs(x, \n",
    "                                         g, \n",
    "                                         r, \n",
    "                                         n_gRNA_total, \n",
    "                                         p_gRNA_freq, \n",
    "                                         p_gRNA_edit, ϵ_KO; iter=500);"
   ]
  },
  {
   "cell_type": "code",
   "execution_count": 32,
   "metadata": {},
   "outputs": [],
   "source": [
    "d_KOs_70 = normalize([sum(n_KOs_70 .== 0), sum(n_KOs_70 .== 1), sum(n_KOs_70 .== 2)], 1);\n",
    "d_KOs_80 = normalize([sum(n_KOs_80 .== 0), sum(n_KOs_80 .== 1), sum(n_KOs_80 .== 2)], 1);\n",
    "d_KOs_90 = normalize([sum(n_KOs_90 .== 0), sum(n_KOs_90 .== 1), sum(n_KOs_90 .== 2)], 1);\n",
    "\n",
    "ticklabel = string.(collect('0':'6'))\n",
    "groupedbar([d_KOs_70 d_KOs_80 d_KOs_90], bar_position = :dodge, bar_width=0.7, xticks=(1:36, ticklabel),\n",
    "fill=[:turquoise :turquoise1 :turquoise4], linecolor=:white, fillalpha=0.8, label=[\"eKO = 0.7\" \"eKO = 0.8\" \"eKO = 0.9\"],\n",
    "size = (600, 400), legend=:topleft,\n",
    "xlabel=\"number of knockouts per plant\", ylabel=\"probability\", title=\"Distribution of knockouts per plant\")\n"
   ]
  },
  {
   "cell_type": "markdown",
   "metadata": {},
   "source": [
    "- Figure 9B: Distribution of knockouts per plant in *Overshoot* scenario (*r* = 6 > *k* = 2)"
   ]
  },
  {
   "cell_type": "code",
   "execution_count": 26,
   "metadata": {},
   "outputs": [],
   "source": [
    "r = 6 # overshoot\n",
    "\n",
    "ϵ_KO = 0.7\n",
    "n_KOs_overshoot6_70 = simulate_Nₓ₂_countKOs(x, \n",
    "                                         g, \n",
    "                                         r, \n",
    "                                         n_gRNA_total, \n",
    "                                         p_gRNA_freq, \n",
    "                                         p_gRNA_edit, ϵ_KO; iter=500)\n",
    "ϵ_KO = 0.8\n",
    "n_KOs_overshoot6_80 = simulate_Nₓ₂_countKOs(x, \n",
    "                                         g, \n",
    "                                         r, \n",
    "                                         n_gRNA_total, \n",
    "                                         p_gRNA_freq, \n",
    "                                         p_gRNA_edit, ϵ_KO; iter=500)\n",
    "ϵ_KO = 0.9\n",
    "n_KOs_overshoot6_90 = simulate_Nₓ₂_countKOs(x, \n",
    "                                         g, \n",
    "                                         r, \n",
    "                                         n_gRNA_total, \n",
    "                                         p_gRNA_freq, \n",
    "                                         p_gRNA_edit, ϵ_KO; iter=500);"
   ]
  },
  {
   "cell_type": "code",
   "execution_count": 34,
   "metadata": {},
   "outputs": [],
   "source": [
    "d_KOs_overshoot6_70 = normalize([sum(n_KOs_overshoot6_70 .== 0), sum(n_KOs_overshoot6_70 .== 1), sum(n_KOs_overshoot6_70 .== 2), sum(n_KOs_overshoot6_70 .== 3), sum(n_KOs_overshoot6_70 .== 4), sum(n_KOs_overshoot6_70 .== 5), sum(n_KOs_overshoot6_70 .== 6)], 1)\n",
    "d_KOs_overshoot6_80 = normalize([sum(n_KOs_overshoot6_80 .== 0), sum(n_KOs_overshoot6_80 .== 1), sum(n_KOs_overshoot6_80 .== 2), sum(n_KOs_overshoot6_70 .== 3), sum(n_KOs_overshoot6_70 .== 4), sum(n_KOs_overshoot6_70 .== 5), sum(n_KOs_overshoot6_70 .== 6)], 1)\n",
    "d_KOs_overshoot6_90 = normalize([sum(n_KOs_overshoot6_90 .== 0), sum(n_KOs_overshoot6_90 .== 1), sum(n_KOs_overshoot6_90 .== 2), sum(n_KOs_overshoot6_70 .== 3), sum(n_KOs_overshoot6_70 .== 4), sum(n_KOs_overshoot6_70 .== 5), sum(n_KOs_overshoot6_70 .== 6)], 1)\n",
    "\n",
    "ticklabel = string.(collect('0':'6'));\n",
    "\n",
    "groupedbar([d_KOs_overshoot6_70 d_KOs_overshoot6_80 d_KOs_overshoot6_90], bar_position = :dodge, \n",
    "    linecolor=:white,\n",
    "   fill=[:turquoise :turquoise1 :turquoise4],\n",
    "    bar_width=0.7, xticks=(1:18, ticklabel), fillalpha=0.8,\n",
    "xlabel=\"number of knockouts per plant\", ylabel=\"probability\", \n",
    "    title=\"Distribution of knockouts per plant\", \n",
    "label=[\"eKO = 0.7\" \"eKO = 0.8\" \"eKO = 0.9\"], legend=:topleft,size = (600, 400))"
   ]
  }
 ],
 "metadata": {
  "kernelspec": {
   "display_name": "Julia 1.7.1",
   "language": "julia",
   "name": "julia-1.7"
  },
  "language_info": {
   "file_extension": ".jl",
   "mimetype": "application/julia",
   "name": "julia",
   "version": "1.7.1"
  }
 },
 "nbformat": 4,
 "nbformat_minor": 4
}
