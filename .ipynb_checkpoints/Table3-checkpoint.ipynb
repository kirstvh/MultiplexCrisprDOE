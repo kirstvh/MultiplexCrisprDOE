{
 "cells": [
  {
   "cell_type": "markdown",
   "metadata": {},
   "source": [
    "This notebook allows the reproduce **Table 3** of the paper \"Covering the Combinatorial Design Space of Multiplex CRISPR/Cas Experiments in Plants\" by Kirsten Van Huffel, Michiel Stock, Thomas Jacobs, Tom Ruttink and Bernard De Baets."
   ]
  },
  {
   "cell_type": "markdown",
   "metadata": {},
   "source": [
    "#### Load packages"
   ]
  },
  {
   "cell_type": "code",
   "execution_count": 3,
   "metadata": {},
   "outputs": [
    {
     "name": "stderr",
     "output_type": "stream",
     "text": [
      "\n",
      "(process:12136): GLib-GIO-WARNING **: 15:54:13.384: Unexpectedly, UWP app `HaukeGtze.7-ZipFileManagerUnofficial_1.2107.2.0_x64__6bk20wvc8rfx2' (AUMId `HaukeGtze.7-ZipFileManagerUnofficial_6bk20wvc8rfx2!zFM.exe') supports 36 extensions but has no verbs\n"
     ]
    }
   ],
   "source": [
    "using Random \n",
    "using Plots  \n",
    "using Distributions \n",
    "using LinearAlgebra\n",
    "using Combinatorics\n",
    "using BioCCP"
   ]
  },
  {
   "cell_type": "markdown",
   "metadata": {},
   "source": [
    "#### Load BioCCP- and simulation-based framework"
   ]
  },
  {
   "cell_type": "code",
   "execution_count": 2,
   "metadata": {},
   "outputs": [],
   "source": [
    "include(\"MultiplexCrisprDOE.jl\");"
   ]
  },
  {
   "cell_type": "markdown",
   "metadata": {},
   "source": [
    "## 2. Simulation-based approach"
   ]
  },
  {
   "cell_type": "code",
   "execution_count": 4,
   "metadata": {},
   "outputs": [],
   "source": [
    "n_targets = 20\n",
    "n_gRNA_pergene = 6\n",
    "n_gRNA_total = n_targets * n_gRNA_pergene\n",
    "ϵ_knockout_global = 0.8\n",
    "ρ = 2\n",
    "l = 50; \n",
    "u = ρ*l\n",
    "m= (l+u)/2; \n",
    "sd= (u-l)/2; \n",
    "Random.seed!(1)\n",
    "p_gRNA_library = gRNA_frequency_distribution(m, sd, l, u, n_gRNA_total; normalize=true)\n",
    "\n",
    "\n",
    "Random.seed!(1)\n",
    "p_active = 0.9; high_activity = 0.9; low_activity = 0.1; sd_act = 0.01\n",
    "p_gRNA_act = gRNA_activity_distribution(p_active, high_activity, low_activity, sd_act, n_gRNA_total; visualize=false);"
   ]
  },
  {
   "cell_type": "code",
   "execution_count": 5,
   "metadata": {},
   "outputs": [
    {
     "name": "stdout",
     "output_type": "stream",
     "text": [
      "  1.414071 seconds (3.42 M allocations: 320.657 MiB, 6.03% gc time, 70.71% compilation time)\n"
     ]
    },
    {
     "data": {
      "text/plain": [
       "(107.798, 35.021567875137535)"
      ]
     },
     "execution_count": 5,
     "metadata": {},
     "output_type": "execute_result"
    }
   ],
   "source": [
    "n_gRNA_perconstruct = 1\n",
    "Random.seed!(1)\n",
    "@time simulate_Nₓ₁(n_targets, \n",
    "                                n_gRNA_pergene, \n",
    "                                n_gRNA_perconstruct, \n",
    "                                n_gRNA_total, \n",
    "                                p_gRNA_library, \n",
    "                                p_gRNA_act, ϵ_knockout_global; iter=500)"
   ]
  },
  {
   "cell_type": "code",
   "execution_count": 6,
   "metadata": {},
   "outputs": [
    {
     "name": "stdout",
     "output_type": "stream",
     "text": [
      "  1.030850 seconds (2.54 M allocations: 128.299 MiB, 3.99% gc time, 99.56% compilation time)\n"
     ]
    },
    {
     "data": {
      "text/plain": [
       "(110, 38)"
      ]
     },
     "execution_count": 6,
     "metadata": {},
     "output_type": "execute_result"
    }
   ],
   "source": [
    "Random.seed!(1)\n",
    "@time BioCCP_Nₓ₁(n_targets, \n",
    "                                n_gRNA_pergene, \n",
    "                                n_gRNA_perconstruct, \n",
    "                                n_gRNA_total, \n",
    "                                p_gRNA_library, \n",
    "                                p_gRNA_act, ϵ_knockout_global)"
   ]
  },
  {
   "cell_type": "code",
   "execution_count": 10,
   "metadata": {},
   "outputs": [
    {
     "name": "stdout",
     "output_type": "stream",
     "text": [
      "Iteration: 100 ... Calculating minimum number of plants ... \n",
      "\n",
      "Iteration: 200 ... Calculating minimum number of plants ... \n",
      "\n",
      "Iteration: 300 ... Calculating minimum number of plants ... \n",
      "\n",
      "Iteration: 400 ... Calculating minimum number of plants ... \n",
      "\n",
      "Iteration: 500 ... Calculating minimum number of plants ... \n",
      "\n",
      " 10.638747 seconds (22.79 M allocations: 6.973 GiB, 12.70% gc time, 4.13% compilation time)\n"
     ]
    },
    {
     "data": {
      "text/plain": [
       "(2785.95, 653.5562769297134)"
      ]
     },
     "execution_count": 10,
     "metadata": {},
     "output_type": "execute_result"
    }
   ],
   "source": [
    "n_gRNA_perconstruct = 2\n",
    "Random.seed!(1)\n",
    "@time simulate_Nₓ₂(n_targets, \n",
    "                                n_gRNA_pergene, \n",
    "                                n_gRNA_perconstruct, \n",
    "                                n_gRNA_total, \n",
    "                                p_gRNA_library, \n",
    "                                p_gRNA_act, ϵ_knockout_global; iter=500)"
   ]
  },
  {
   "cell_type": "code",
   "execution_count": 11,
   "metadata": {},
   "outputs": [
    {
     "name": "stdout",
     "output_type": "stream",
     "text": [
      "  1.285499 seconds (1.72 M allocations: 113.445 MiB, 3.53% gc time, 97.63% compilation time)\n"
     ]
    },
    {
     "data": {
      "text/plain": [
       "(2731, 641)"
      ]
     },
     "execution_count": 11,
     "metadata": {},
     "output_type": "execute_result"
    }
   ],
   "source": [
    "Random.seed!(1)\n",
    "@time BioCCP_Nₓ₂(n_targets, \n",
    "                                n_gRNA_pergene, \n",
    "                                n_gRNA_perconstruct, \n",
    "                                n_gRNA_total, \n",
    "                                p_gRNA_library, \n",
    "                                p_gRNA_act, ϵ_knockout_global)"
   ]
  },
  {
   "cell_type": "code",
   "execution_count": 12,
   "metadata": {},
   "outputs": [
    {
     "name": "stdout",
     "output_type": "stream",
     "text": [
      "Iteration: 100 ... Calculating minimum number of plants ... \n",
      "\n",
      "Iteration: 200 ... Calculating minimum number of plants ... \n",
      "\n",
      "Iteration: 300 ... Calculating minimum number of plants ... \n",
      "\n",
      "Iteration: 400 ... Calculating minimum number of plants ... \n",
      "\n",
      "Iteration: 500 ... Calculating minimum number of plants ... \n",
      "\n",
      "411.362045 seconds (315.17 M allocations: 1.141 TiB, 14.00% gc time, 0.11% compilation time)\n"
     ]
    },
    {
     "data": {
      "text/plain": [
       "(37961.906, 7183.905227227848)"
      ]
     },
     "execution_count": 12,
     "metadata": {},
     "output_type": "execute_result"
    }
   ],
   "source": [
    "n_gRNA_perconstruct = 3\n",
    "Random.seed!(1)\n",
    "@time simulate_Nₓ₃(n_targets, \n",
    "                                n_gRNA_pergene, \n",
    "                                n_gRNA_perconstruct, \n",
    "                                n_gRNA_total, \n",
    "                                p_gRNA_library, \n",
    "                                p_gRNA_act, ϵ_knockout_global; iter=500)"
   ]
  },
  {
   "cell_type": "code",
   "execution_count": 13,
   "metadata": {},
   "outputs": [
    {
     "name": "stdout",
     "output_type": "stream",
     "text": [
      "  3.184293 seconds (69.43 M allocations: 1.176 GiB, 5.36% gc time, 27.13% compilation time)\n"
     ]
    },
    {
     "data": {
      "text/plain": [
       "(36771, 6989)"
      ]
     },
     "execution_count": 13,
     "metadata": {},
     "output_type": "execute_result"
    }
   ],
   "source": [
    "n_gRNA_perconstruct = 3\n",
    "Random.seed!(1)\n",
    "@time BioCCP_Nₓ₃(n_targets, \n",
    "                                n_gRNA_pergene, \n",
    "                                n_gRNA_perconstruct, \n",
    "                                n_gRNA_total, \n",
    "                                p_gRNA_library, \n",
    "                                p_gRNA_act, ϵ_knockout_global)"
   ]
  }
 ],
 "metadata": {
  "kernelspec": {
   "display_name": "Julia 1.7.1",
   "language": "julia",
   "name": "julia-1.7"
  },
  "language_info": {
   "file_extension": ".jl",
   "mimetype": "application/julia",
   "name": "julia",
   "version": "1.7.1"
  }
 },
 "nbformat": 4,
 "nbformat_minor": 4
}
