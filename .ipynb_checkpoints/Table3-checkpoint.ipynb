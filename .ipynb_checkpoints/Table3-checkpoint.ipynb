{
 "cells": [
  {
   "cell_type": "markdown",
   "metadata": {},
   "source": [
    "This notebook allows the reproduce **Table 3** of the paper \"Covering the Combinatorial Design Space of Multiplex CRISPR/Cas Experiments in Plants\" by Kirsten Van Huffel, Michiel Stock, Thomas Jacobs, Tom Ruttink and Bernard De Baets."
   ]
  },
  {
   "cell_type": "markdown",
   "metadata": {},
   "source": [
    "#### Load packages"
   ]
  },
  {
   "cell_type": "code",
   "execution_count": 3,
   "metadata": {},
   "outputs": [
    {
     "name": "stderr",
     "output_type": "stream",
     "text": [
      "\n",
      "(process:12136): GLib-GIO-WARNING **: 15:54:13.384: Unexpectedly, UWP app `HaukeGtze.7-ZipFileManagerUnofficial_1.2107.2.0_x64__6bk20wvc8rfx2' (AUMId `HaukeGtze.7-ZipFileManagerUnofficial_6bk20wvc8rfx2!zFM.exe') supports 36 extensions but has no verbs\n"
     ]
    }
   ],
   "source": [
    "using Random \n",
    "using Plots  \n",
    "using Distributions \n",
    "using LinearAlgebra\n",
    "using Combinatorics\n",
    "using BioCCP"
   ]
  },
  {
   "cell_type": "markdown",
   "metadata": {},
   "source": [
    "#### Load BioCCP- and simulation-based framework"
   ]
  },
  {
   "cell_type": "code",
   "execution_count": 8,
   "metadata": {},
   "outputs": [],
   "source": [
    "include(\"MultiplexCrisprDOE.jl\");"
   ]
  },
  {
   "cell_type": "markdown",
   "metadata": {},
   "source": [
    "#### Set seed for reproducibility"
   ]
  },
  {
   "cell_type": "code",
   "execution_count": null,
   "metadata": {},
   "outputs": [],
   "source": [
    "Random.seed!(1)"
   ]
  },
  {
   "cell_type": "markdown",
   "metadata": {},
   "source": [
    "#### Calculate expected plant library size for full coverage and measure execution time for both approaches"
   ]
  },
  {
   "cell_type": "markdown",
   "metadata": {},
   "source": [
    "1) CRISPR/Cas experiment targeting single gene knockouts"
   ]
  },
  {
   "cell_type": "code",
   "execution_count": 11,
   "metadata": {},
   "outputs": [],
   "source": [
    "include(\"DefaultParameters_k=1.jl\");"
   ]
  },
  {
   "cell_type": "code",
   "execution_count": 12,
   "metadata": {},
   "outputs": [
    {
     "name": "stdout",
     "output_type": "stream",
     "text": [
      "  0.422180 seconds (1.86 M allocations: 236.583 MiB, 11.03% gc time, 36.99% compilation time)\n"
     ]
    },
    {
     "data": {
      "text/plain": [
       "(107.79, 35.02220738360221)"
      ]
     },
     "execution_count": 12,
     "metadata": {},
     "output_type": "execute_result"
    }
   ],
   "source": [
    "@time simulate_Nₓ₁(n_targets, \n",
    "                                n_gRNA_pergene, \n",
    "                                n_gRNA_perconstruct, \n",
    "                                n_gRNA_total, \n",
    "                                p_gRNA_library, \n",
    "                                p_gRNA_act, ϵ_knockout_global; iter=500)"
   ]
  },
  {
   "cell_type": "code",
   "execution_count": 13,
   "metadata": {},
   "outputs": [
    {
     "name": "stdout",
     "output_type": "stream",
     "text": [
      "  0.058961 seconds (131.27 k allocations: 6.807 MiB, 97.34% compilation time)\n"
     ]
    },
    {
     "data": {
      "text/plain": [
       "(110, 38)"
      ]
     },
     "execution_count": 13,
     "metadata": {},
     "output_type": "execute_result"
    }
   ],
   "source": [
    "@time BioCCP_Nₓ₁(n_targets, \n",
    "                                n_gRNA_pergene, \n",
    "                                n_gRNA_perconstruct, \n",
    "                                n_gRNA_total, \n",
    "                                p_gRNA_library, \n",
    "                                p_gRNA_act, ϵ_knockout_global)"
   ]
  },
  {
   "cell_type": "markdown",
   "metadata": {},
   "source": [
    "2) Multiplex CRISPR/Cas experiment targeting pairwise combinations of gene knockouts"
   ]
  },
  {
   "cell_type": "code",
   "execution_count": 14,
   "metadata": {},
   "outputs": [],
   "source": [
    "include(\"DefaultParameters_k=2.jl\");"
   ]
  },
  {
   "cell_type": "code",
   "execution_count": 15,
   "metadata": {},
   "outputs": [
    {
     "name": "stdout",
     "output_type": "stream",
     "text": [
      "  6.592268 seconds (21.82 M allocations: 6.924 GiB, 12.65% gc time)\n"
     ]
    },
    {
     "data": {
      "text/plain": [
       "(2785.944, 653.5442303210796)"
      ]
     },
     "execution_count": 15,
     "metadata": {},
     "output_type": "execute_result"
    }
   ],
   "source": [
    "@time simulate_Nₓ₂(n_targets, \n",
    "                                n_gRNA_pergene, \n",
    "                                n_gRNA_perconstruct, \n",
    "                                n_gRNA_total, \n",
    "                                p_gRNA_library, \n",
    "                                p_gRNA_act, ϵ_knockout_global; iter=500)"
   ]
  },
  {
   "cell_type": "code",
   "execution_count": 16,
   "metadata": {},
   "outputs": [
    {
     "name": "stdout",
     "output_type": "stream",
     "text": [
      "  0.761519 seconds (1.72 M allocations: 113.445 MiB, 2.48% gc time, 97.28% compilation time)\n"
     ]
    },
    {
     "data": {
      "text/plain": [
       "(2731, 641)"
      ]
     },
     "execution_count": 16,
     "metadata": {},
     "output_type": "execute_result"
    }
   ],
   "source": [
    "@time BioCCP_Nₓ₂(n_targets, \n",
    "                                n_gRNA_pergene, \n",
    "                                n_gRNA_perconstruct, \n",
    "                                n_gRNA_total, \n",
    "                                p_gRNA_library, \n",
    "                                p_gRNA_act, ϵ_knockout_global)"
   ]
  },
  {
   "cell_type": "markdown",
   "metadata": {},
   "source": [
    "3) Multiplex CRISPR/Cas experiment targeting triple combinations of gene knockouts"
   ]
  },
  {
   "cell_type": "code",
   "execution_count": 18,
   "metadata": {},
   "outputs": [],
   "source": [
    "include(\"DefaultParameters_k=3.jl\");"
   ]
  },
  {
   "cell_type": "code",
   "execution_count": null,
   "metadata": {},
   "outputs": [],
   "source": [
    "@time simulate_Nₓ₃(n_targets, \n",
    "                                n_gRNA_pergene, \n",
    "                                n_gRNA_perconstruct, \n",
    "                                n_gRNA_total, \n",
    "                                p_gRNA_library, \n",
    "                                p_gRNA_act, ϵ_knockout_global; iter=500)"
   ]
  },
  {
   "cell_type": "code",
   "execution_count": 13,
   "metadata": {},
   "outputs": [
    {
     "name": "stdout",
     "output_type": "stream",
     "text": [
      "  3.184293 seconds (69.43 M allocations: 1.176 GiB, 5.36% gc time, 27.13% compilation time)\n"
     ]
    },
    {
     "data": {
      "text/plain": [
       "(36771, 6989)"
      ]
     },
     "execution_count": 13,
     "metadata": {},
     "output_type": "execute_result"
    }
   ],
   "source": [
    "n_gRNA_perconstruct = 3\n",
    "Random.seed!(1)\n",
    "@time BioCCP_Nₓ₃(n_targets, \n",
    "                                n_gRNA_pergene, \n",
    "                                n_gRNA_perconstruct, \n",
    "                                n_gRNA_total, \n",
    "                                p_gRNA_library, \n",
    "                                p_gRNA_act, ϵ_knockout_global)"
   ]
  }
 ],
 "metadata": {
  "kernelspec": {
   "display_name": "Julia 1.7.1",
   "language": "julia",
   "name": "julia-1.7"
  },
  "language_info": {
   "file_extension": ".jl",
   "mimetype": "application/julia",
   "name": "julia",
   "version": "1.7.1"
  }
 },
 "nbformat": 4,
 "nbformat_minor": 4
}
