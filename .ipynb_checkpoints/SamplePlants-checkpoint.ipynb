{
 "cells": [
  {
   "cell_type": "markdown",
   "metadata": {},
   "source": [
    "This animation illustrates the occurence of pairwise combinations of gene knockouts when including an increasing number of plants in a plant library. Consider a multiplex CRISPR/Cas experiment targeting pairwise combinations of gene knockouts, characterized by the experimental design parameters listed in the file \"DefaultParameters_k=2.jl\"."
   ]
  },
  {
   "cell_type": "markdown",
   "metadata": {},
   "source": [
    "Load packages"
   ]
  },
  {
   "cell_type": "code",
   "execution_count": 1,
   "metadata": {},
   "outputs": [
    {
     "name": "stderr",
     "output_type": "stream",
     "text": [
      "\n",
      "(process:25032): GLib-GIO-WARNING **: 21:09:52.448: Unexpectedly, UWP app `HaukeGtze.7-ZipFileManagerUnofficial_1.2107.2.0_x64__6bk20wvc8rfx2' (AUMId `HaukeGtze.7-ZipFileManagerUnofficial_6bk20wvc8rfx2!zFM.exe') supports 36 extensions but has no verbs\n"
     ]
    }
   ],
   "source": [
    "using Random; Random.seed!(1234) # Set a seed for reproducibility\n",
    "using Plots, StatsPlots, StatsBase\n",
    "using Distributions \n",
    "using LinearAlgebra\n",
    "using Combinatorics"
   ]
  },
  {
   "cell_type": "markdown",
   "metadata": {},
   "source": [
    "Load default parameters and functions"
   ]
  },
  {
   "cell_type": "code",
   "execution_count": 2,
   "metadata": {},
   "outputs": [],
   "source": [
    "include(\"MultiplexCrisprDOE.jl\");\n",
    "include(\"DefaultParameters_k=2.jl\");"
   ]
  },
  {
   "cell_type": "markdown",
   "metadata": {},
   "source": [
    "At a sample size of 24550, you know for 95% sure that the combinations you don't see are lethal."
   ]
  },
  {
   "cell_type": "code",
   "execution_count": 7,
   "metadata": {},
   "outputs": [
    {
     "data": {
      "text/plain": [
       "sampling_plants (generic function with 1 method)"
      ]
     },
     "execution_count": 7,
     "metadata": {},
     "output_type": "execute_result"
    }
   ],
   "source": [
    "function sampling_plants(n_plants)\n",
    "    Random.seed!(1)\n",
    "    \n",
    "    total_combinations = length(collect(combinations(x, 2)))\n",
    "    \n",
    "    X_interactions_count = zeros(x, x) # Initialize matrix to count pairwise interactions\n",
    "    \n",
    "    for plant in 1:n_plants     \n",
    "        #coverage = sum(X_interactions_count .> 0)/total_combinations      \n",
    "        # sample combinatorial gRNA/Cas9 construct\n",
    "        gRNA_indices_construct = findall((rand(Multinomial(r, p_gRNA_freq))) .!= 0)\n",
    "                \n",
    "        # execute mutations\n",
    "        gRNA_indices_mutations = [gRNA for gRNA in gRNA_indices_construct if rand(Binomial(1, p_gRNA_edit[gRNA])) == 1]\n",
    "            \n",
    "        # effective gene knockout (loss-of-function) ?\n",
    "        gRNA_indices_KO = [gRNA for gRNA in gRNA_indices_mutations if rand(Binomial(1, ϵ_KO)) == 1]\n",
    "            \n",
    "        # which genes are knocked out?\n",
    "        genes_indices_KO = Int.(ceil.(gRNA_indices_KO / g))\n",
    "            \n",
    "        # which pairwise combinations are present?\n",
    "        interactions = collect(combinations(genes_indices_KO, 2))\n",
    "                \n",
    "        # Store represented combinations in matrix\n",
    "        for interaction in interactions\n",
    "            j = interaction[1]; k = interaction[2]\n",
    "            \n",
    "            if j != k\n",
    "                if j < k \n",
    "                    X_interactions_count[j,k] += 1; \n",
    "                else \n",
    "                    X_interactions_count[k,j] += 1; \n",
    "                end\n",
    "            end\n",
    "        end  \n",
    "    end\n",
    "    \n",
    "    return X_interactions_count #, coverage\n",
    "end\n",
    " "
   ]
  },
  {
   "cell_type": "code",
   "execution_count": 8,
   "metadata": {},
   "outputs": [
    {
     "ename": "LoadError",
     "evalue": "invalid redefinition of constant sampling_plants",
     "output_type": "error",
     "traceback": [
      "invalid redefinition of constant sampling_plants",
      "",
      "Stacktrace:",
      " [1] top-level scope",
      "   @ In[8]:1",
      " [2] eval",
      "   @ .\\boot.jl:373 [inlined]",
      " [3] include_string(mapexpr::typeof(REPL.softscope), mod::Module, code::String, filename::String)",
      "   @ Base .\\loading.jl:1196"
     ]
    }
   ],
   "source": [
    "sampling_plants = 100"
   ]
  },
  {
   "cell_type": "code",
   "execution_count": 5,
   "metadata": {},
   "outputs": [
    {
     "data": {
      "text/plain": [
       "heatmap_plant_sampling (generic function with 1 method)"
      ]
     },
     "execution_count": 5,
     "metadata": {},
     "output_type": "execute_result"
    }
   ],
   "source": [
    "function heatmap_plant_sampling(interaction_matrix, coverage, n, x)\n",
    "    \n",
    "    h =  heatmap(interaction_matrix,   \n",
    "    c=cgrad([:white, :white,\n",
    "                :turquoise1, :turquoise1, :turquoise1,\n",
    "                :turquoise4, :turquoise4, :turquoise4, \n",
    "                :blue3,  :blue3, :blue3,\n",
    "                :blue4, :blue4  , :blue4 , \n",
    "                :blue4  , :blue4 , :blue4, :blue4, :blue4, :blue4,  \n",
    "                :darkblue, :darkblue ]),\n",
    "    clim=(0,10),\n",
    "    xlabel=\"gene knockout 1\n",
    "        \", ylabel=\"\n",
    "        gene knockout 2\", \n",
    "        title=\"Occurrence of pairwise combinations of gene knockouts \n",
    "     [Plant library size = $n plants    -    Coverage = $coverage]\n",
    "    \n",
    "    \", \n",
    "        colorbar_title = \"Times observed\",\n",
    "        colorbartitle_font = font(11, \"Computer Modern\"),\n",
    "        colorbar_font = font(11, \"Computer Modern\"),\n",
    "        xticks=(1:1:x, string.((1:1:x))),\n",
    "        yticks=(1:1:x, string.((1:1:x))),\n",
    "        titlefont=font(12,\"Computer Modern\"),\n",
    "        xtickfont = font(10, \"Computer Modern\"),\n",
    "         ytickfont = font(10, \"Computer Modern\"),\n",
    "        xguidefont = font(11, \"Computer Modern\"),\n",
    "         yguidefont = font(11, \"Computer Modern\"),\n",
    "        size = (900,700))\n",
    "    \n",
    "    ann = [(i,j, text(Int(interaction_matrix'[i,j]), 8, :white, :center))\n",
    "            for i in 1:x for j in 1:i-1]\n",
    "    \n",
    "    annotate!(ann, linecolor=:white)\n",
    "    return h\n",
    "    \n",
    "end"
   ]
  },
  {
   "cell_type": "code",
   "execution_count": 6,
   "metadata": {
    "scrolled": true
   },
   "outputs": [
    {
     "ename": "LoadError",
     "evalue": "UndefVarError: coverage not defined",
     "output_type": "error",
     "traceback": [
      "UndefVarError: coverage not defined",
      "",
      "Stacktrace:",
      " [1] sampling_plants(n_plants::Int64)",
      "   @ Main .\\In[3]:39",
      " [2] macro expansion",
      "   @ .\\In[6]:6 [inlined]",
      " [3] top-level scope",
      "   @ C:\\Users\\kirst\\.julia\\packages\\Plots\\YAlrZ\\src\\animation.jl:197",
      " [4] eval",
      "   @ .\\boot.jl:373 [inlined]",
      " [5] include_string(mapexpr::typeof(REPL.softscope), mod::Module, code::String, filename::String)",
      "   @ Base .\\loading.jl:1196"
     ]
    }
   ],
   "source": [
    "using Plots\n",
    "\n",
    "collect\n",
    " \n",
    "anim = @animate for n = vcat(collect(1:2:50), collect(50:5:2400))\n",
    "    heatmap_plant_sampling(sampling_plants(n)[1], sampling_plants(n)[2], n, x)\n",
    "end\n",
    " \n",
    "gif(anim, \"sampling_plants.gif\", fps = 5)"
   ]
  }
 ],
 "metadata": {
  "kernelspec": {
   "display_name": "Julia 1.7.1",
   "language": "julia",
   "name": "julia-1.7"
  },
  "language_info": {
   "file_extension": ".jl",
   "mimetype": "application/julia",
   "name": "julia",
   "version": "1.7.1"
  }
 },
 "nbformat": 4,
 "nbformat_minor": 4
}
